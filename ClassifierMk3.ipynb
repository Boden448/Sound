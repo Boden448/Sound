{
 "cells": [
  {
   "cell_type": "code",
   "execution_count": null,
   "id": "2eb1c792",
   "metadata": {},
   "outputs": [],
   "source": [
    "!pip install -q \"tensorflow==2.11.*\"\n",
    "!pip install -q \"tensorflow_io==0.28.*\""
   ]
  },
  {
   "cell_type": "code",
   "execution_count": 119,
   "id": "ede9f9b6",
   "metadata": {},
   "outputs": [],
   "source": [
    "import os\n",
    "\n",
    "from IPython import display\n",
    "import matplotlib.pyplot as plt\n",
    "import numpy as np\n",
    "import pandas as pd\n",
    "import glob\n",
    "import wave\n",
    "import csv\n",
    "import shutil\n",
    "import tensorflow as tf\n",
    "import tensorflow_hub as hub\n",
    "import tensorflow_io as tfio"
   ]
  },
  {
   "cell_type": "code",
   "execution_count": 3,
   "id": "3396d184",
   "metadata": {},
   "outputs": [],
   "source": [
    "yamnet_model_handle = 'https://tfhub.dev/google/yamnet/1'\n",
    "yamnet_model = hub.load(yamnet_model_handle)"
   ]
  },
  {
   "cell_type": "code",
   "execution_count": 4,
   "id": "48d3be7a",
   "metadata": {},
   "outputs": [],
   "source": [
    "@tf.function\n",
    "def load_wav_16k_mono(filename):\n",
    "    \"\"\" Load a WAV file, convert it to a float tensor, resample to 16 kHz single-channel audio. \"\"\"\n",
    "    file_contents = tf.io.read_file(filename)\n",
    "    wav, sample_rate = tf.audio.decode_wav(\n",
    "          file_contents,\n",
    "          desired_channels=1)\n",
    "    wav=tf.squeeze(wav,axis=-1)\n",
    "    sample_rate = tf.cast(sample_rate, dtype=tf.int64)\n",
    "    wav = tfio.audio.resample(wav, rate_in=sample_rate, rate_out=16000)\n",
    "    return wav"
   ]
  },
  {
   "cell_type": "code",
   "execution_count": 5,
   "id": "f53e3fd3",
   "metadata": {},
   "outputs": [],
   "source": [
    "class_map_path = yamnet_model.class_map_path().numpy().decode('utf-8')\n",
    "class_names =list(pd.read_csv(class_map_path)['display_name'])"
   ]
  },
  {
   "cell_type": "code",
   "execution_count": 137,
   "id": "392a5d86",
   "metadata": {},
   "outputs": [
    {
     "name": "stdout",
     "output_type": "stream",
     "text": [
      "Downloading data from https://github.com/Boden448/Sound/archive/main.zip\n",
      "   8192/Unknown - 0s 0us/step"
     ]
    }
   ],
   "source": [
    "_ = tf.keras.utils.get_file('car.zip',\n",
    "                        'https://github.com/Boden448/Sound/archive/main.zip',\n",
    "\n",
    "                        cache_dir='./',\n",
    "                        cache_subdir='madds',\n",
    "                        extract=True)"
   ]
  },
  {
   "cell_type": "code",
   "execution_count": 144,
   "id": "a6c41bd1",
   "metadata": {},
   "outputs": [],
   "source": [
    "df1 = pd.read_csv('./madds/Sound-main/meta/complete0.csv')\n",
    "df2 = pd.read_csv('./madds/Sound-main/meta/complete1.csv')\n",
    "\n",
    "merge_df = pd.concat([df1, df2], ignore_index=True)\n",
    "\n",
    "merge_df.to_csv('./madds/Sound-main/meta/complete1.csv', index=False)"
   ]
  },
  {
   "cell_type": "code",
   "execution_count": 131,
   "id": "485b2130",
   "metadata": {},
   "outputs": [],
   "source": [
    "source_dir='./madds/Sound-main/datasets/train'\n",
    "dest_dir='./madds/Sound-main/datasets/dog'\n",
    "base_data_path='./madds/Sound-main/datasets/all_audio_files'\n"
   ]
  },
  {
   "cell_type": "code",
   "execution_count": 132,
   "id": "35f7dcd6",
   "metadata": {},
   "outputs": [],
   "source": [
    "os.makedirs(new_dir, exist_ok=True)\n",
    "\n",
    "for root, dirs, files in os.walk(source_dir):\n",
    "    for file in files:\n",
    "        if file.endswith('.wav'):\n",
    "            shutil.move(os.path.join(root, file), dest_dir)\n",
    "\n",
    "for file in os.listdir(dest_dir):\n",
    "    if file.endswith('.wav'):\n",
    "        shutil.move(os.path.join(dest_dir, file), new_dir)"
   ]
  },
  {
   "cell_type": "code",
   "execution_count": 101,
   "id": "f2835f49",
   "metadata": {},
   "outputs": [],
   "source": [
    "#meta_csv='./madds/Sound-main/meta/car.csv'\n",
    "#base_data_path='./madds/Sound-main/datasets/'"
   ]
  },
  {
   "cell_type": "code",
   "execution_count": 147,
   "id": "e24243f8",
   "metadata": {
    "scrolled": true
   },
   "outputs": [
    {
     "data": {
      "text/html": [
       "<div>\n",
       "<style scoped>\n",
       "    .dataframe tbody tr th:only-of-type {\n",
       "        vertical-align: middle;\n",
       "    }\n",
       "\n",
       "    .dataframe tbody tr th {\n",
       "        vertical-align: top;\n",
       "    }\n",
       "\n",
       "    .dataframe thead th {\n",
       "        text-align: right;\n",
       "    }\n",
       "</style>\n",
       "<table border=\"1\" class=\"dataframe\">\n",
       "  <thead>\n",
       "    <tr style=\"text-align: right;\">\n",
       "      <th></th>\n",
       "      <th>filename</th>\n",
       "      <th>fold</th>\n",
       "      <th>target</th>\n",
       "      <th>category</th>\n",
       "      <th>risk</th>\n",
       "    </tr>\n",
       "  </thead>\n",
       "  <tbody>\n",
       "    <tr>\n",
       "      <th>0</th>\n",
       "      <td>bird0.wav</td>\n",
       "      <td>1</td>\n",
       "      <td>5</td>\n",
       "      <td>bird</td>\n",
       "      <td>low</td>\n",
       "    </tr>\n",
       "    <tr>\n",
       "      <th>1</th>\n",
       "      <td>bird1.wav</td>\n",
       "      <td>1</td>\n",
       "      <td>5</td>\n",
       "      <td>bird</td>\n",
       "      <td>low</td>\n",
       "    </tr>\n",
       "    <tr>\n",
       "      <th>2</th>\n",
       "      <td>bird10.wav</td>\n",
       "      <td>1</td>\n",
       "      <td>5</td>\n",
       "      <td>bird</td>\n",
       "      <td>low</td>\n",
       "    </tr>\n",
       "    <tr>\n",
       "      <th>3</th>\n",
       "      <td>bird100.wav</td>\n",
       "      <td>1</td>\n",
       "      <td>5</td>\n",
       "      <td>bird</td>\n",
       "      <td>low</td>\n",
       "    </tr>\n",
       "    <tr>\n",
       "      <th>4</th>\n",
       "      <td>bird1000.wav</td>\n",
       "      <td>1</td>\n",
       "      <td>5</td>\n",
       "      <td>bird</td>\n",
       "      <td>low</td>\n",
       "    </tr>\n",
       "  </tbody>\n",
       "</table>\n",
       "</div>"
      ],
      "text/plain": [
       "       filename  fold  target category risk\n",
       "0     bird0.wav     1       5     bird  low\n",
       "1     bird1.wav     1       5     bird  low\n",
       "2    bird10.wav     1       5     bird  low\n",
       "3   bird100.wav     1       5     bird  low\n",
       "4  bird1000.wav     1       5     bird  low"
      ]
     },
     "execution_count": 147,
     "metadata": {},
     "output_type": "execute_result"
    }
   ],
   "source": [
    "pd_data = pd.read_csv('./madds/Sound-main/meta/complete1.csv')\n",
    "pd_data.head()"
   ]
  },
  {
   "cell_type": "code",
   "execution_count": 148,
   "id": "217edd04",
   "metadata": {},
   "outputs": [
    {
     "data": {
      "text/html": [
       "<div>\n",
       "<style scoped>\n",
       "    .dataframe tbody tr th:only-of-type {\n",
       "        vertical-align: middle;\n",
       "    }\n",
       "\n",
       "    .dataframe tbody tr th {\n",
       "        vertical-align: top;\n",
       "    }\n",
       "\n",
       "    .dataframe thead th {\n",
       "        text-align: right;\n",
       "    }\n",
       "</style>\n",
       "<table border=\"1\" class=\"dataframe\">\n",
       "  <thead>\n",
       "    <tr style=\"text-align: right;\">\n",
       "      <th></th>\n",
       "      <th>filename</th>\n",
       "      <th>fold</th>\n",
       "      <th>target</th>\n",
       "      <th>category</th>\n",
       "      <th>risk</th>\n",
       "    </tr>\n",
       "  </thead>\n",
       "  <tbody>\n",
       "    <tr>\n",
       "      <th>0</th>\n",
       "      <td>./madds/Sound-main/datasets/bird0.wav</td>\n",
       "      <td>1</td>\n",
       "      <td>5</td>\n",
       "      <td>bird</td>\n",
       "      <td>low</td>\n",
       "    </tr>\n",
       "    <tr>\n",
       "      <th>1</th>\n",
       "      <td>./madds/Sound-main/datasets/bird1.wav</td>\n",
       "      <td>1</td>\n",
       "      <td>5</td>\n",
       "      <td>bird</td>\n",
       "      <td>low</td>\n",
       "    </tr>\n",
       "    <tr>\n",
       "      <th>2</th>\n",
       "      <td>./madds/Sound-main/datasets/bird10.wav</td>\n",
       "      <td>1</td>\n",
       "      <td>5</td>\n",
       "      <td>bird</td>\n",
       "      <td>low</td>\n",
       "    </tr>\n",
       "    <tr>\n",
       "      <th>3</th>\n",
       "      <td>./madds/Sound-main/datasets/bird100.wav</td>\n",
       "      <td>1</td>\n",
       "      <td>5</td>\n",
       "      <td>bird</td>\n",
       "      <td>low</td>\n",
       "    </tr>\n",
       "    <tr>\n",
       "      <th>4</th>\n",
       "      <td>./madds/Sound-main/datasets/bird1000.wav</td>\n",
       "      <td>1</td>\n",
       "      <td>5</td>\n",
       "      <td>bird</td>\n",
       "      <td>low</td>\n",
       "    </tr>\n",
       "    <tr>\n",
       "      <th>5</th>\n",
       "      <td>./madds/Sound-main/datasets/bird1001.wav</td>\n",
       "      <td>1</td>\n",
       "      <td>5</td>\n",
       "      <td>bird</td>\n",
       "      <td>low</td>\n",
       "    </tr>\n",
       "    <tr>\n",
       "      <th>6</th>\n",
       "      <td>./madds/Sound-main/datasets/bird1002.wav</td>\n",
       "      <td>1</td>\n",
       "      <td>5</td>\n",
       "      <td>bird</td>\n",
       "      <td>low</td>\n",
       "    </tr>\n",
       "    <tr>\n",
       "      <th>7</th>\n",
       "      <td>./madds/Sound-main/datasets/bird1003.wav</td>\n",
       "      <td>1</td>\n",
       "      <td>5</td>\n",
       "      <td>bird</td>\n",
       "      <td>low</td>\n",
       "    </tr>\n",
       "    <tr>\n",
       "      <th>8</th>\n",
       "      <td>./madds/Sound-main/datasets/bird1004.wav</td>\n",
       "      <td>1</td>\n",
       "      <td>5</td>\n",
       "      <td>bird</td>\n",
       "      <td>low</td>\n",
       "    </tr>\n",
       "    <tr>\n",
       "      <th>9</th>\n",
       "      <td>./madds/Sound-main/datasets/bird1005.wav</td>\n",
       "      <td>1</td>\n",
       "      <td>5</td>\n",
       "      <td>bird</td>\n",
       "      <td>low</td>\n",
       "    </tr>\n",
       "  </tbody>\n",
       "</table>\n",
       "</div>"
      ],
      "text/plain": [
       "                                   filename  fold  target category risk\n",
       "0     ./madds/Sound-main/datasets/bird0.wav     1       5     bird  low\n",
       "1     ./madds/Sound-main/datasets/bird1.wav     1       5     bird  low\n",
       "2    ./madds/Sound-main/datasets/bird10.wav     1       5     bird  low\n",
       "3   ./madds/Sound-main/datasets/bird100.wav     1       5     bird  low\n",
       "4  ./madds/Sound-main/datasets/bird1000.wav     1       5     bird  low\n",
       "5  ./madds/Sound-main/datasets/bird1001.wav     1       5     bird  low\n",
       "6  ./madds/Sound-main/datasets/bird1002.wav     1       5     bird  low\n",
       "7  ./madds/Sound-main/datasets/bird1003.wav     1       5     bird  low\n",
       "8  ./madds/Sound-main/datasets/bird1004.wav     1       5     bird  low\n",
       "9  ./madds/Sound-main/datasets/bird1005.wav     1       5     bird  low"
      ]
     },
     "execution_count": 148,
     "metadata": {},
     "output_type": "execute_result"
    }
   ],
   "source": [
    "my_classes = ['horn','start','break','cat','siren','bird','construction','barrier','crowd']\n",
    "map_class_to_id = {'horn':0,'start':1,'break':2,'cat':3,'siren':4,'bird':5,'construction':6,'barrier':7,'crowd':8}\n",
    "\n",
    "filtered_pd = pd_data[pd_data.category.isin(my_classes)]\n",
    "\n",
    "class_id = filtered_pd['category'].apply(lambda name: map_class_to_id[name])\n",
    "filtered_pd = filtered_pd.assign(target=class_id)\n",
    "\n",
    "full_path = filtered_pd['filename'].apply(lambda row: os.path.join(base_data_path, row))\n",
    "filtered_pd = filtered_pd.assign(filename=full_path)\n",
    "\n",
    "filtered_pd.head(10)"
   ]
  },
  {
   "cell_type": "code",
   "execution_count": 104,
   "id": "65305c2b",
   "metadata": {},
   "outputs": [
    {
     "data": {
      "text/plain": [
       "(TensorSpec(shape=(), dtype=tf.string, name=None),\n",
       " TensorSpec(shape=(), dtype=tf.int64, name=None),\n",
       " TensorSpec(shape=(), dtype=tf.int64, name=None))"
      ]
     },
     "execution_count": 104,
     "metadata": {},
     "output_type": "execute_result"
    }
   ],
   "source": [
    "filenames = filtered_pd['filename']\n",
    "targets = filtered_pd['target']\n",
    "folds = filtered_pd['fold']\n",
    "\n",
    "main_ds = tf.data.Dataset.from_tensor_slices((filenames, targets, folds))\n",
    "main_ds.element_spec"
   ]
  },
  {
   "cell_type": "code",
   "execution_count": 105,
   "id": "2b34e0a0",
   "metadata": {},
   "outputs": [
    {
     "data": {
      "text/plain": [
       "(TensorSpec(shape=<unknown>, dtype=tf.float32, name=None),\n",
       " TensorSpec(shape=(), dtype=tf.int64, name=None),\n",
       " TensorSpec(shape=(), dtype=tf.int64, name=None))"
      ]
     },
     "execution_count": 105,
     "metadata": {},
     "output_type": "execute_result"
    }
   ],
   "source": [
    "def load_wav_for_map(filename, label, fold):\n",
    "    return load_wav_16k_mono(filename), label, fold\n",
    "\n",
    "main_ds = main_ds.map(load_wav_for_map)\n",
    "main_ds.element_spec"
   ]
  },
  {
   "cell_type": "code",
   "execution_count": 106,
   "id": "a0def162",
   "metadata": {},
   "outputs": [
    {
     "data": {
      "text/plain": [
       "(TensorSpec(shape=(1024,), dtype=tf.float32, name=None),\n",
       " TensorSpec(shape=(), dtype=tf.int64, name=None),\n",
       " TensorSpec(shape=(), dtype=tf.int64, name=None))"
      ]
     },
     "execution_count": 106,
     "metadata": {},
     "output_type": "execute_result"
    }
   ],
   "source": [
    "def extract_embedding(wav_data, label, fold):\n",
    "    ''' run YAMNet to extract embedding from the wav data '''\n",
    "    scores, embeddings, spectrogram = yamnet_model(wav_data)\n",
    "    num_embeddings = tf.shape(embeddings)[0]\n",
    "    return (embeddings,\n",
    "            tf.repeat(label, num_embeddings),\n",
    "            tf.repeat(fold, num_embeddings))\n",
    "\n",
    "main_ds = main_ds.map(extract_embedding).unbatch()\n",
    "main_ds.element_spec"
   ]
  },
  {
   "cell_type": "code",
   "execution_count": 107,
   "id": "d5cd5774",
   "metadata": {},
   "outputs": [],
   "source": [
    "cached_ds = main_ds.cache()\n",
    "train_ds = cached_ds.filter(lambda embedding, label, fold: fold < 4)\n",
    "val_ds = cached_ds.filter(lambda embedding, label, fold: fold == 4)\n",
    "test_ds = cached_ds.filter(lambda embedding, label, fold: fold == 5)\n",
    "\n",
    "remove_fold_column = lambda embedding, label, fold: (embedding, label)\n",
    "\n",
    "train_ds = train_ds.map(remove_fold_column)\n",
    "val_ds = val_ds.map(remove_fold_column)\n",
    "test_ds = test_ds.map(remove_fold_column)\n",
    "\n",
    "train_ds = train_ds.cache().shuffle(1000).batch(64).prefetch(tf.data.AUTOTUNE)\n",
    "val_ds = val_ds.cache().batch(64).prefetch(tf.data.AUTOTUNE)\n",
    "test_ds = test_ds.cache().batch(64).prefetch(tf.data.AUTOTUNE)\n"
   ]
  },
  {
   "cell_type": "code",
   "execution_count": 108,
   "id": "87220f0f",
   "metadata": {},
   "outputs": [
    {
     "name": "stdout",
     "output_type": "stream",
     "text": [
      "Model: \"my_model\"\n",
      "_________________________________________________________________\n",
      " Layer (type)                Output Shape              Param #   \n",
      "=================================================================\n",
      " dense_8 (Dense)             (None, 512)               524800    \n",
      "                                                                 \n",
      " dense_9 (Dense)             (None, 9)                 4617      \n",
      "                                                                 \n",
      "=================================================================\n",
      "Total params: 529,417\n",
      "Trainable params: 529,417\n",
      "Non-trainable params: 0\n",
      "_________________________________________________________________\n"
     ]
    }
   ],
   "source": [
    "my_model = tf.keras.Sequential([\n",
    "    tf.keras.layers.Input(shape=(1024), dtype=tf.float64,\n",
    "                          name='input_embedding'),\n",
    "    tf.keras.layers.Dense(512, activation='softmax'),\n",
    "    tf.keras.layers.Dense(len(my_classes))\n",
    "], name='my_model')\n",
    "\n",
    "my_model.summary()"
   ]
  },
  {
   "cell_type": "code",
   "execution_count": 109,
   "id": "f8d59ef7",
   "metadata": {},
   "outputs": [],
   "source": [
    "my_model.compile(loss=tf.keras.losses.SparseCategoricalCrossentropy(from_logits=True),\n",
    "                 optimizer=\"adam\",\n",
    "                 metrics=['accuracy'])\n",
    "\n",
    "\n",
    "callback = tf.keras.callbacks.EarlyStopping(monitor='loss',\n",
    "                                            patience=4,\n",
    "                                            baseline=None,\n",
    "                                            restore_best_weights=True)\n",
    "\n"
   ]
  },
  {
   "cell_type": "code",
   "execution_count": 111,
   "id": "1b61f061",
   "metadata": {},
   "outputs": [
    {
     "name": "stdout",
     "output_type": "stream",
     "text": [
      "Epoch 1/400\n"
     ]
    },
    {
     "ename": "NotFoundError",
     "evalue": "Graph execution error:\n\nNewRandomAccessFile failed to Create/Open: ./madds/Sound-main/datasets/break1.wav : The system cannot find the file specified.\r\n; No such file or directory\n\t [[{{node ReadFile}}]]\n\t [[IteratorGetNext]] [Op:__inference_train_function_70434]",
     "output_type": "error",
     "traceback": [
      "\u001b[1;31m---------------------------------------------------------------------------\u001b[0m",
      "\u001b[1;31mNotFoundError\u001b[0m                             Traceback (most recent call last)",
      "\u001b[1;32m~\\AppData\\Local\\Temp\\ipykernel_16992\\2633532183.py\u001b[0m in \u001b[0;36m<module>\u001b[1;34m\u001b[0m\n\u001b[0;32m      1\u001b[0m \u001b[1;32mfor\u001b[0m \u001b[0mi\u001b[0m \u001b[1;32min\u001b[0m \u001b[0mrange\u001b[0m\u001b[1;33m(\u001b[0m\u001b[1;36m1\u001b[0m\u001b[1;33m)\u001b[0m\u001b[1;33m:\u001b[0m\u001b[1;33m\u001b[0m\u001b[1;33m\u001b[0m\u001b[0m\n\u001b[1;32m----> 2\u001b[1;33m     history = my_model.fit(train_ds,\n\u001b[0m\u001b[0;32m      3\u001b[0m                            \u001b[0mepochs\u001b[0m\u001b[1;33m=\u001b[0m\u001b[1;36m400\u001b[0m\u001b[1;33m,\u001b[0m\u001b[1;33m\u001b[0m\u001b[1;33m\u001b[0m\u001b[0m\n\u001b[0;32m      4\u001b[0m                            \u001b[0mvalidation_data\u001b[0m\u001b[1;33m=\u001b[0m\u001b[0mval_ds\u001b[0m\u001b[1;33m,\u001b[0m\u001b[1;33m\u001b[0m\u001b[1;33m\u001b[0m\u001b[0m\n\u001b[0;32m      5\u001b[0m                            callbacks=callback)\n",
      "\u001b[1;32mC:\\ProgramData\\Anaconda3\\lib\\site-packages\\keras\\utils\\traceback_utils.py\u001b[0m in \u001b[0;36merror_handler\u001b[1;34m(*args, **kwargs)\u001b[0m\n\u001b[0;32m     68\u001b[0m             \u001b[1;31m# To get the full stack trace, call:\u001b[0m\u001b[1;33m\u001b[0m\u001b[1;33m\u001b[0m\u001b[0m\n\u001b[0;32m     69\u001b[0m             \u001b[1;31m# `tf.debugging.disable_traceback_filtering()`\u001b[0m\u001b[1;33m\u001b[0m\u001b[1;33m\u001b[0m\u001b[0m\n\u001b[1;32m---> 70\u001b[1;33m             \u001b[1;32mraise\u001b[0m \u001b[0me\u001b[0m\u001b[1;33m.\u001b[0m\u001b[0mwith_traceback\u001b[0m\u001b[1;33m(\u001b[0m\u001b[0mfiltered_tb\u001b[0m\u001b[1;33m)\u001b[0m \u001b[1;32mfrom\u001b[0m \u001b[1;32mNone\u001b[0m\u001b[1;33m\u001b[0m\u001b[1;33m\u001b[0m\u001b[0m\n\u001b[0m\u001b[0;32m     71\u001b[0m         \u001b[1;32mfinally\u001b[0m\u001b[1;33m:\u001b[0m\u001b[1;33m\u001b[0m\u001b[1;33m\u001b[0m\u001b[0m\n\u001b[0;32m     72\u001b[0m             \u001b[1;32mdel\u001b[0m \u001b[0mfiltered_tb\u001b[0m\u001b[1;33m\u001b[0m\u001b[1;33m\u001b[0m\u001b[0m\n",
      "\u001b[1;32mC:\\ProgramData\\Anaconda3\\lib\\site-packages\\tensorflow\\python\\eager\\execute.py\u001b[0m in \u001b[0;36mquick_execute\u001b[1;34m(op_name, num_outputs, inputs, attrs, ctx, name)\u001b[0m\n\u001b[0;32m     50\u001b[0m   \u001b[1;32mtry\u001b[0m\u001b[1;33m:\u001b[0m\u001b[1;33m\u001b[0m\u001b[1;33m\u001b[0m\u001b[0m\n\u001b[0;32m     51\u001b[0m     \u001b[0mctx\u001b[0m\u001b[1;33m.\u001b[0m\u001b[0mensure_initialized\u001b[0m\u001b[1;33m(\u001b[0m\u001b[1;33m)\u001b[0m\u001b[1;33m\u001b[0m\u001b[1;33m\u001b[0m\u001b[0m\n\u001b[1;32m---> 52\u001b[1;33m     tensors = pywrap_tfe.TFE_Py_Execute(ctx._handle, device_name, op_name,\n\u001b[0m\u001b[0;32m     53\u001b[0m                                         inputs, attrs, num_outputs)\n\u001b[0;32m     54\u001b[0m   \u001b[1;32mexcept\u001b[0m \u001b[0mcore\u001b[0m\u001b[1;33m.\u001b[0m\u001b[0m_NotOkStatusException\u001b[0m \u001b[1;32mas\u001b[0m \u001b[0me\u001b[0m\u001b[1;33m:\u001b[0m\u001b[1;33m\u001b[0m\u001b[1;33m\u001b[0m\u001b[0m\n",
      "\u001b[1;31mNotFoundError\u001b[0m: Graph execution error:\n\nNewRandomAccessFile failed to Create/Open: ./madds/Sound-main/datasets/break1.wav : The system cannot find the file specified.\r\n; No such file or directory\n\t [[{{node ReadFile}}]]\n\t [[IteratorGetNext]] [Op:__inference_train_function_70434]"
     ]
    }
   ],
   "source": [
    "for i in range(1):\n",
    "    history = my_model.fit(train_ds,\n",
    "                           epochs=400,\n",
    "                           validation_data=val_ds,\n",
    "                           callbacks=callback)\n",
    "    \n"
   ]
  },
  {
   "cell_type": "code",
   "execution_count": null,
   "id": "604c8ec2",
   "metadata": {},
   "outputs": [],
   "source": [
    "class ReduceMeanLayer(tf.keras.layers.Layer):\n",
    "    def __init__(self, axis=0, **kwargs):\n",
    "        super(ReduceMeanLayer, self).__init__(**kwargs)\n",
    "        self.axis = axis\n",
    "\n",
    "    def call(self, input):\n",
    "        return tf.math.reduce_mean(input, axis=self.axis)"
   ]
  },
  {
   "cell_type": "code",
   "execution_count": 27,
   "id": "c8006c1f",
   "metadata": {},
   "outputs": [
    {
     "name": "stdout",
     "output_type": "stream",
     "text": [
      "./test_data\\miaow_16k.wav\n",
      "WARNING:tensorflow:Using a while_loop for converting IO>AudioResample cause there is no registered converter for this op.\n"
     ]
    },
    {
     "name": "stderr",
     "output_type": "stream",
     "text": [
      "WARNING:tensorflow:Using a while_loop for converting IO>AudioResample cause there is no registered converter for this op.\n"
     ]
    }
   ],
   "source": [
    "testing_wav_file_name = tf.keras.utils.get_file('miaow_16k.wav',\n",
    "                                                'https://storage.googleapis.com/audioset/miaow_16k.wav',\n",
    "                                                cache_dir='./',\n",
    "                                                cache_subdir='test_data')\n",
    "\n",
    "print(testing_wav_file_name)\n",
    "\n",
    "testing_wav_data = load_wav_16k_mono(testing_wav_file_name)"
   ]
  },
  {
   "cell_type": "code",
   "execution_count": 28,
   "id": "3bbc89db",
   "metadata": {},
   "outputs": [],
   "source": [
    "class ReduceMeanLayer(tf.keras.layers.Layer):\n",
    "    def __init__(self, axis=0, **kwargs):\n",
    "        super(ReduceMeanLayer, self).__init__(**kwargs)\n",
    "        self.axis = axis\n",
    "\n",
    "    def call(self, input):\n",
    "        return tf.math.reduce_mean(input, axis=self.axis)"
   ]
  },
  {
   "cell_type": "code",
   "execution_count": null,
   "id": "696866b8",
   "metadata": {},
   "outputs": [],
   "source": []
  },
  {
   "cell_type": "code",
   "execution_count": 29,
   "id": "5e63897e",
   "metadata": {},
   "outputs": [
    {
     "name": "stdout",
     "output_type": "stream",
     "text": [
      "WARNING:tensorflow:Please fix your imports. Module tensorflow.python.training.tracking.data_structures has been moved to tensorflow.python.trackable.data_structures. The old module will be deleted in version 2.11.\n"
     ]
    },
    {
     "name": "stderr",
     "output_type": "stream",
     "text": [
      "WARNING:tensorflow:Please fix your imports. Module tensorflow.python.training.tracking.data_structures has been moved to tensorflow.python.trackable.data_structures. The old module will be deleted in version 2.11.\n"
     ]
    },
    {
     "name": "stdout",
     "output_type": "stream",
     "text": [
      "WARNING:tensorflow:Compiled the loaded model, but the compiled metrics have yet to be built. `model.compile_metrics` will be empty until you train or evaluate the model.\n"
     ]
    },
    {
     "name": "stderr",
     "output_type": "stream",
     "text": [
      "WARNING:tensorflow:Compiled the loaded model, but the compiled metrics have yet to be built. `model.compile_metrics` will be empty until you train or evaluate the model.\n",
      "WARNING:absl:Found untraced functions such as _update_step_xla while saving (showing 1 of 1). These functions will not be directly callable after loading.\n"
     ]
    },
    {
     "name": "stdout",
     "output_type": "stream",
     "text": [
      "INFO:tensorflow:Assets written to: ./dogs_cos_pigs\\assets\n"
     ]
    },
    {
     "name": "stderr",
     "output_type": "stream",
     "text": [
      "INFO:tensorflow:Assets written to: ./dogs_cos_pigs\\assets\n"
     ]
    }
   ],
   "source": [
    "saved_model_path = './dogs_cos_pigs'\n",
    "\n",
    "input_segment = tf.keras.layers.Input(shape=(), dtype=tf.float32, name='audio')\n",
    "embedding_extraction_layer = hub.KerasLayer(yamnet_model_handle,\n",
    "                                            trainable=False, name='yamnet')\n",
    "_, embeddings_output, _ = embedding_extraction_layer(input_segment)\n",
    "serving_outputs = my_model(embeddings_output)\n",
    "serving_outputs = ReduceMeanLayer(axis=0, name='classifier')(serving_outputs)\n",
    "serving_model = tf.keras.Model(input_segment, serving_outputs)\n",
    "serving_model.save(saved_model_path, include_optimizer=False)"
   ]
  },
  {
   "cell_type": "code",
   "execution_count": 30,
   "id": "9ebe7697",
   "metadata": {},
   "outputs": [],
   "source": [
    "reloaded_model = tf.saved_model.load(saved_model_path)"
   ]
  },
  {
   "cell_type": "code",
   "execution_count": 57,
   "id": "4c585336",
   "metadata": {},
   "outputs": [
    {
     "name": "stdout",
     "output_type": "stream",
     "text": [
      "./madds/Sound-main/photo/horn23.wav\n",
      "Waveform values: [ 1.8263467e-08 -5.2372911e-08  3.4907497e-08 ...  1.6641632e-02\n",
      "  1.1462305e-02 -1.4974890e-02]\n"
     ]
    },
    {
     "data": {
      "text/html": [
       "\n",
       "                <audio  controls=\"controls\" >\n",
       "                    <source src=\"data:audio/wav;base64,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\" type=\"audio/wav\" />\n",
       "                    Your browser does not support the audio element.\n",
       "                </audio>\n",
       "              "
      ],
      "text/plain": [
       "<IPython.lib.display.Audio object>"
      ]
     },
     "execution_count": 57,
     "metadata": {},
     "output_type": "execute_result"
    },
    {
     "data": {
      "image/png": "[encoded data removed]",
      "text/plain": [
       "<Figure size 640x480 with 1 Axes>"
      ]
     },
     "metadata": {},
     "output_type": "display_data"
    }
   ],
   "source": [
    "test_pd = filtered_pd.loc[filtered_pd['fold'] == 1]\n",
    "row = test_pd.sample(1)\n",
    "risk = row['risk'].item()\n",
    "filename = row['filename'].item()\n",
    "print(filename)\n",
    "waveform = load_wav_16k_mono(filename)\n",
    "print(f'Waveform values: {waveform}')\n",
    "_ = plt.plot(waveform)\n",
    "\n",
    "display.Audio(waveform, rate=16000)"
   ]
  },
  {
   "cell_type": "code",
   "execution_count": 58,
   "id": "33e76ea6",
   "metadata": {},
   "outputs": [
    {
     "name": "stdout",
     "output_type": "stream",
     "text": [
      "[Your model] The main sound is: horn (0.5241820812225342)\n",
      "risk level: medium\n"
     ]
    }
   ],
   "source": [
    "reloaded_results = reloaded_model(waveform)\n",
    "your_top_class = tf.math.argmax(reloaded_results)\n",
    "your_inferred_class = my_classes[your_top_class]\n",
    "class_probabilities = tf.nn.softmax(reloaded_results, axis=-1)\n",
    "your_top_score = class_probabilities[your_top_class]\n",
    "print(f'[Your model] The main sound is: {your_inferred_class} ({your_top_score})')\n",
    "print(f'risk level: {risk}')"
   ]
  },
  {
   "cell_type": "code",
   "execution_count": null,
   "id": "f5e749c2",
   "metadata": {},
   "outputs": [],
   "source": []
  },
  {
   "cell_type": "code",
   "execution_count": null,
   "id": "bb583b43",
   "metadata": {},
   "outputs": [],
   "source": []
  }
 ],
 "metadata": {
  "kernelspec": {
   "display_name": "Python 3 (ipykernel)",
   "language": "python",
   "name": "python3"
  },
  "language_info": {
   "codemirror_mode": {
    "name": "ipython",
    "version": 3
   },
   "file_extension": ".py",
   "mimetype": "text/x-python",
   "name": "python",
   "nbconvert_exporter": "python",
   "pygments_lexer": "ipython3",
   "version": "3.9.13"
  }
 },
 "nbformat": 4,
 "nbformat_minor": 5
}
