{
 "cells": [
  {
   "cell_type": "code",
   "execution_count": null,
   "id": "2eb1c792",
   "metadata": {},
   "outputs": [],
   "source": [
    "!pip install -q \"tensorflow==2.11.*\"\n",
    "!pip install -q \"tensorflow_io==0.28.*\""
   ]
  },
  {
   "cell_type": "code",
   "execution_count": 1,
   "id": "ede9f9b6",
   "metadata": {},
   "outputs": [
    {
     "name": "stderr",
     "output_type": "stream",
     "text": [
      "C:\\ProgramData\\Anaconda3\\lib\\site-packages\\paramiko\\transport.py:219: CryptographyDeprecationWarning: Blowfish has been deprecated\n",
      "  \"class\": algorithms.Blowfish,\n"
     ]
    }
   ],
   "source": [
    "import os\n",
    "\n",
    "from IPython import display\n",
    "import matplotlib.pyplot as plt\n",
    "import numpy as np\n",
    "import pandas as pd\n",
    "import glob\n",
    "import wave\n",
    "import csv\n",
    "import tensorflow as tf\n",
    "import tensorflow_hub as hub\n",
    "import librosa\n",
    "from scipy.io import wavfile\n",
    "from sklearn.model_selection import train_test_split\n",
    "import tensorflow_io as tfio\n",
    "import scipy"
   ]
  },
  {
   "cell_type": "code",
   "execution_count": null,
   "id": "3396d184",
   "metadata": {},
   "outputs": [],
   "source": [
    "yamnet_model_handle = 'https://tfhub.dev/google/yamnet/1'\n",
    "yamnet_model = hub.load(yamnet_model_handle)"
   ]
  },
  {
   "cell_type": "code",
   "execution_count": null,
   "id": "48d3be7a",
   "metadata": {},
   "outputs": [],
   "source": [
    "@tf.function\n",
    "def load_wav_16k_mono(filename):\n",
    "    \"\"\" Load a WAV file, convert it to a float tensor, resample to 16 kHz single-channel audio. \"\"\"\n",
    "    file_contents = tf.io.read_file(filename)\n",
    "    wav, sample_rate = tf.audio.decode_wav(\n",
    "          file_contents,\n",
    "          desired_channels=1)\n",
    "    wav=tf.squeeze(wav,axis=-1)\n",
    "    sample_rate = tf.cast(sample_rate, dtype=tf.int64)\n",
    "    wav = tfio.audio.resample(wav, rate_in=sample_rate, rate_out=16000)\n",
    "    return wav"
   ]
  },
  {
   "cell_type": "code",
   "execution_count": null,
   "id": "f53e3fd3",
   "metadata": {},
   "outputs": [],
   "source": [
    "class_map_path = yamnet_model.class_map_path().numpy().decode('utf-8')\n",
    "class_names =list(pd.read_csv(class_map_path)['display_name'])"
   ]
  },
  {
   "cell_type": "code",
   "execution_count": 2,
   "id": "392a5d86",
   "metadata": {},
   "outputs": [],
   "source": [
    "_ = tf.keras.utils.get_file('car.zip',\n",
    "                        'https://github.com/Boden448/Sound/archive/main.zip',\n",
    "\n",
    "                        cache_dir='./',\n",
    "                        cache_subdir='masse',\n",
    "                        extract=True)"
   ]
  },
  {
   "cell_type": "code",
   "execution_count": null,
   "id": "f2835f49",
   "metadata": {},
   "outputs": [],
   "source": [
    "metadata_file_path='./masse/Sound-main/meta/DOA.csv'\n",
    "data_dir='./masse/Sound-main/DOA_audio/'"
   ]
  },
  {
   "cell_type": "code",
   "execution_count": null,
   "id": "da6a59d4",
   "metadata": {},
   "outputs": [],
   "source": [
    "metadata_df = pd.read_csv(metadata_file_path)\n",
    "metadata_df.head()"
   ]
  },
  {
   "cell_type": "code",
   "execution_count": null,
   "id": "2eaae405",
   "metadata": {},
   "outputs": [],
   "source": [
    "#WARNING: After running once, dont run again, as the csv file become unsuable and all the files will have to be redownloaded \n",
    "\n",
    "updated_metadata = []\n",
    "\n",
    "\n",
    "with open(metadata_file_path, \"r\") as file:\n",
    "\n",
    "    # create a CSV reader object\n",
    "    reader = csv.DictReader(file)\n",
    "\n",
    "    # loop through each row in the metadata file\n",
    "    for row in reader:\n",
    "\n",
    "        # get the filename from the current row\n",
    "        filename = row[\"filename\"]\n",
    "\n",
    "        # construct the path to the corresponding WAV file\n",
    "        wav_path = os.path.join(data_dir, filename )\n",
    "\n",
    "        # update the filename column with the path to the WAV file\n",
    "        row[\"filename\"] = wav_path\n",
    "\n",
    "        # add the updated row to the list of updated metadata\n",
    "        updated_metadata.append(row)\n",
    "        \n",
    "with open(metadata_file_path, \"w\") as file:\n",
    "\n",
    "    # create a CSV writer object\n",
    "    writer = csv.DictWriter(file, fieldnames=reader.fieldnames)\n",
    "\n",
    "    # write the updated metadata to the metadata file\n",
    "    writer.writeheader()\n",
    "    writer.writerows(updated_metadata)\n",
    "    \n",
    "./mass/Sound-main/meta/"
   ]
  },
  {
   "cell_type": "code",
   "execution_count": 3,
   "id": "4082c38b",
   "metadata": {},
   "outputs": [],
   "source": [
    "csv_dir = \"./masse/Sound-main/meta/\"\n",
    "audio_dir= './masse/Sound-main/DOA_audio/'\n"
   ]
  },
  {
   "cell_type": "code",
   "execution_count": 4,
   "id": "3862b722",
   "metadata": {},
   "outputs": [],
   "source": [
    "csv_file = os.path.join(csv_dir, 'DOA.csv')\n",
    "df = pd.read_csv(csv_file)"
   ]
  },
  {
   "cell_type": "code",
   "execution_count": 5,
   "id": "e24243f8",
   "metadata": {
    "scrolled": true
   },
   "outputs": [],
   "source": [
    "audio_files = [os.path.join(audio_dir, f) for f in os.listdir(audio_dir) if f.endswith('.wav')]\n",
    "audio_data = []\n",
    "for f in audio_files:\n",
    "    audio, sr = librosa.load(f, sr=44100, mono=True)\n",
    "    audio_data.append(audio)\n"
   ]
  },
  {
   "cell_type": "code",
   "execution_count": 6,
   "id": "c2187987",
   "metadata": {},
   "outputs": [],
   "source": [
    "max_length = 44100\n",
    "padded_audio_data = []\n",
    "for audio in audio_data:\n",
    "    if len(audio) >= max_length:\n",
    "        padded_audio_data.append(audio[:max_length])\n",
    "    else:\n",
    "        padded_audio_data.append(np.pad(audio, (0, max_length - len(audio)), mode='constant'))\n",
    "\n"
   ]
  },
  {
   "cell_type": "code",
   "execution_count": 17,
   "id": "c2578d2e",
   "metadata": {},
   "outputs": [
    {
     "name": "stdout",
     "output_type": "stream",
     "text": [
      "Loaded 24 audio files.\n",
      "Shape of padded audio data: (24, 44100)\n",
      "Shape of csv data: (24, 3)\n",
      "Shape of pos data: (24, 2)\n",
      "Shape of theta data: (24,)\n"
     ]
    }
   ],
   "source": [
    "padded_audio_data = np.array(padded_audio_data)\n",
    "csv_data = df[['x', 'z', 'theta']].values\n",
    "pos_data = df[['x', 'z']].values\n",
    "theta_data = df['theta'].values\n",
    "\n",
    "\n",
    "print(f\"Loaded {len(audio_files)} audio files.\")\n",
    "print(f\"Shape of padded audio data: {padded_audio_data.shape}\")\n",
    "print(f\"Shape of csv data: {csv_data.shape}\")\n",
    "print(f\"Shape of pos data: {pos_data.shape}\")\n",
    "print(f\"Shape of theta data: {theta_data.shape}\")"
   ]
  },
  {
   "cell_type": "code",
   "execution_count": 14,
   "id": "ec129a80",
   "metadata": {},
   "outputs": [],
   "source": [
    "input_audio = tf.keras.layers.Input(shape=(max_length,1))\n",
    "lstm1 = tf.keras.layers.LSTM(128)(input_audio)\n",
    "dense1 = tf.keras.layers.Dense(64, activation='softmax')(lstm1)\n",
    "input_csv = tf.keras.layers.Input(shape=(3,))\n",
    "concat = tf.keras.layers.Concatenate()([dense1, input_csv])\n",
    "dense2 = tf.keras.layers.Dense(32, activation='softmax')(concat)\n",
    "output_pos = tf.keras.layers.Dense(2, activation='linear')(dense2)\n",
    "output_theta = tf.keras.layers.Dense(1, activation='linear')(dense2)"
   ]
  },
  {
   "cell_type": "code",
   "execution_count": 15,
   "id": "6c6c6b68",
   "metadata": {},
   "outputs": [],
   "source": [
    "model = tf.keras.models.Model(inputs=[input_audio, input_csv], outputs=[output_pos, output_theta])\n",
    "model.compile(loss='mse', optimizer='adam')"
   ]
  },
  {
   "cell_type": "code",
   "execution_count": 16,
   "id": "922953ea",
   "metadata": {},
   "outputs": [
    {
     "name": "stdout",
     "output_type": "stream",
     "text": [
      "1/1 [==============================] - 65s 65s/step - loss: 129441.6016 - dense_10_loss: 124922.5547 - dense_11_loss: 4519.0576 - val_loss: 150809.7656 - val_dense_10_loss: 124950.4844 - val_dense_11_loss: 25859.2871\n"
     ]
    },
    {
     "data": {
      "text/plain": [
       "<keras.callbacks.History at 0x1a6308970a0>"
      ]
     },
     "execution_count": 16,
     "metadata": {},
     "output_type": "execute_result"
    }
   ],
   "source": [
    "model.fit(x=[padded_audio_data.reshape(-1, max_length, 1), csv_data],\n",
    "          y=[pos_data, theta_data],\n",
    "          epochs=1,\n",
    "          batch_size=32,\n",
    "          validation_split=0.2)"
   ]
  },
  {
   "cell_type": "code",
   "execution_count": 18,
   "id": "217edd04",
   "metadata": {
    "scrolled": false
   },
   "outputs": [
    {
     "ename": "NameError",
     "evalue": "name 'load_data' is not defined",
     "output_type": "error",
     "traceback": [
      "\u001b[1;31m---------------------------------------------------------------------------\u001b[0m",
      "\u001b[1;31mNameError\u001b[0m                                 Traceback (most recent call last)",
      "\u001b[1;32m~\\AppData\\Local\\Temp\\ipykernel_13268\\3761418247.py\u001b[0m in \u001b[0;36m<module>\u001b[1;34m\u001b[0m\n\u001b[0;32m      8\u001b[0m               validation_split=0.2)\n\u001b[0;32m      9\u001b[0m \u001b[1;33m\u001b[0m\u001b[0m\n\u001b[1;32m---> 10\u001b[1;33m \u001b[0mtest_model\u001b[0m\u001b[1;33m(\u001b[0m\u001b[1;33m)\u001b[0m\u001b[1;33m\u001b[0m\u001b[1;33m\u001b[0m\u001b[0m\n\u001b[0m",
      "\u001b[1;32m~\\AppData\\Local\\Temp\\ipykernel_13268\\3761418247.py\u001b[0m in \u001b[0;36mtest_model\u001b[1;34m()\u001b[0m\n\u001b[0;32m      1\u001b[0m \u001b[1;32mdef\u001b[0m \u001b[0mtest_model\u001b[0m\u001b[1;33m(\u001b[0m\u001b[1;33m)\u001b[0m\u001b[1;33m:\u001b[0m\u001b[1;33m\u001b[0m\u001b[1;33m\u001b[0m\u001b[0m\n\u001b[1;32m----> 2\u001b[1;33m     \u001b[0mX_audio\u001b[0m\u001b[1;33m,\u001b[0m \u001b[0mX_csv\u001b[0m\u001b[1;33m,\u001b[0m \u001b[0my_pos\u001b[0m\u001b[1;33m,\u001b[0m \u001b[0my_theta\u001b[0m \u001b[1;33m=\u001b[0m \u001b[0mload_data\u001b[0m\u001b[1;33m(\u001b[0m\u001b[1;33m)\u001b[0m\u001b[1;33m\u001b[0m\u001b[1;33m\u001b[0m\u001b[0m\n\u001b[0m\u001b[0;32m      3\u001b[0m     \u001b[0mmodel\u001b[0m \u001b[1;33m=\u001b[0m \u001b[0mbuild_model\u001b[0m\u001b[1;33m(\u001b[0m\u001b[0mmax_length\u001b[0m\u001b[1;33m=\u001b[0m\u001b[1;36m44100\u001b[0m\u001b[1;33m)\u001b[0m\u001b[1;33m\u001b[0m\u001b[1;33m\u001b[0m\u001b[0m\n\u001b[0;32m      4\u001b[0m     model.fit(x=[X_audio.reshape(-1, 44100, 1), X_csv],\n\u001b[0;32m      5\u001b[0m               \u001b[0my\u001b[0m\u001b[1;33m=\u001b[0m\u001b[1;33m[\u001b[0m\u001b[0my_pos\u001b[0m\u001b[1;33m,\u001b[0m \u001b[0my_theta\u001b[0m\u001b[1;33m]\u001b[0m\u001b[1;33m,\u001b[0m\u001b[1;33m\u001b[0m\u001b[1;33m\u001b[0m\u001b[0m\n",
      "\u001b[1;31mNameError\u001b[0m: name 'load_data' is not defined"
     ]
    }
   ],
   "source": [
    "def test_model():\n",
    "    X_audio, X_csv, y_pos, y_theta = load_data()\n",
    "    model = build_model(max_length=44100)\n",
    "    model.fit(x=[X_audio.reshape(-1, 44100, 1), X_csv],\n",
    "              y=[y_pos, y_theta],\n",
    "              epochs=1,\n",
    "              batch_size=32,\n",
    "              validation_split=0.2)\n",
    "\n",
    "test_model()"
   ]
  },
  {
   "cell_type": "code",
   "execution_count": null,
   "id": "eb003d7b",
   "metadata": {},
   "outputs": [],
   "source": [
    "predicted_pos, predicted_theta = model.predict([test_audio, test_csv])\n",
    "\n",
    "print('Predicted position: {}'.format(predicted_pos[0]))\n",
    "print('Predicted angle: {}'.format(predicted_theta[0]))\n"
   ]
  },
  {
   "cell_type": "code",
   "execution_count": null,
   "id": "65305c2b",
   "metadata": {},
   "outputs": [],
   "source": []
  },
  {
   "cell_type": "code",
   "execution_count": null,
   "id": "fe349bf4",
   "metadata": {},
   "outputs": [],
   "source": []
  },
  {
   "cell_type": "code",
   "execution_count": null,
   "id": "2b34e0a0",
   "metadata": {},
   "outputs": [],
   "source": []
  },
  {
   "cell_type": "code",
   "execution_count": null,
   "id": "a0def162",
   "metadata": {},
   "outputs": [],
   "source": []
  },
  {
   "cell_type": "code",
   "execution_count": null,
   "id": "d5cd5774",
   "metadata": {},
   "outputs": [],
   "source": []
  },
  {
   "cell_type": "code",
   "execution_count": null,
   "id": "87220f0f",
   "metadata": {},
   "outputs": [],
   "source": []
  },
  {
   "cell_type": "code",
   "execution_count": null,
   "id": "f8d59ef7",
   "metadata": {},
   "outputs": [],
   "source": []
  },
  {
   "cell_type": "code",
   "execution_count": null,
   "id": "1b61f061",
   "metadata": {},
   "outputs": [],
   "source": []
  },
  {
   "cell_type": "code",
   "execution_count": null,
   "id": "604c8ec2",
   "metadata": {},
   "outputs": [],
   "source": []
  },
  {
   "cell_type": "code",
   "execution_count": null,
   "id": "c8006c1f",
   "metadata": {},
   "outputs": [],
   "source": []
  },
  {
   "cell_type": "code",
   "execution_count": null,
   "id": "3bbc89db",
   "metadata": {},
   "outputs": [],
   "source": []
  },
  {
   "cell_type": "code",
   "execution_count": null,
   "id": "696866b8",
   "metadata": {},
   "outputs": [],
   "source": []
  },
  {
   "cell_type": "code",
   "execution_count": null,
   "id": "5e63897e",
   "metadata": {},
   "outputs": [],
   "source": []
  },
  {
   "cell_type": "code",
   "execution_count": null,
   "id": "9ebe7697",
   "metadata": {},
   "outputs": [],
   "source": []
  },
  {
   "cell_type": "code",
   "execution_count": null,
   "id": "4c585336",
   "metadata": {},
   "outputs": [],
   "source": []
  },
  {
   "cell_type": "code",
   "execution_count": null,
   "id": "33e76ea6",
   "metadata": {},
   "outputs": [],
   "source": []
  },
  {
   "cell_type": "code",
   "execution_count": null,
   "id": "f5e749c2",
   "metadata": {},
   "outputs": [],
   "source": []
  },
  {
   "cell_type": "code",
   "execution_count": null,
   "id": "bb583b43",
   "metadata": {},
   "outputs": [],
   "source": []
  }
 ],
 "metadata": {
  "kernelspec": {
   "display_name": "Python 3 (ipykernel)",
   "language": "python",
   "name": "python3"
  },
  "language_info": {
   "codemirror_mode": {
    "name": "ipython",
    "version": 3
   },
   "file_extension": ".py",
   "mimetype": "text/x-python",
   "name": "python",
   "nbconvert_exporter": "python",
   "pygments_lexer": "ipython3",
   "version": "3.9.13"
  }
 },
 "nbformat": 4,
 "nbformat_minor": 5
}
