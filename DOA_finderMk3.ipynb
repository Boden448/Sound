{
 "cells": [
  {
   "cell_type": "code",
   "execution_count": 1,
   "id": "7b70120f",
   "metadata": {},
   "outputs": [
    {
     "name": "stderr",
     "output_type": "stream",
     "text": [
      "C:\\ProgramData\\Anaconda3\\lib\\site-packages\\paramiko\\transport.py:219: CryptographyDeprecationWarning: Blowfish has been deprecated\n",
      "  \"class\": algorithms.Blowfish,\n"
     ]
    }
   ],
   "source": [
    "import os\n",
    "from IPython import display\n",
    "import matplotlib.pyplot as plt\n",
    "import numpy as np\n",
    "import pandas as pd\n",
    "import glob\n",
    "import wave\n",
    "import csv\n",
    "import tensorflow as tf\n",
    "import tensorflow_hub as hub\n",
    "import librosa\n",
    "from scipy.io import wavfile\n",
    "from sklearn.model_selection import train_test_split\n",
    "import tensorflow_io as tfio\n",
    "import scipy"
   ]
  },
  {
   "cell_type": "code",
   "execution_count": 2,
   "id": "4d5a5e2e",
   "metadata": {},
   "outputs": [],
   "source": [
    "_ = tf.keras.utils.get_file('car.zip',\n",
    "                        'https://github.com/Boden448/Sound/archive/main.zip',\n",
    "\n",
    "                        cache_dir='./',\n",
    "                        cache_subdir='masses',\n",
    "                        extract=True)"
   ]
  },
  {
   "cell_type": "code",
   "execution_count": 3,
   "id": "b75cde42",
   "metadata": {},
   "outputs": [],
   "source": [
    "\n",
    "csv_dir = \"./masses/Sound-main/meta/\"\n",
    "audio_dir = './masses/Sound-main/DOA_audio/'\n",
    "\n",
    "# Read the CSV file into a Pandas DataFrame\n",
    "csv_file = os.path.join(csv_dir, 'DOA.csv')\n",
    "df = pd.read_csv(csv_file)"
   ]
  },
  {
   "cell_type": "code",
   "execution_count": null,
   "id": "ff0b7d15",
   "metadata": {},
   "outputs": [],
   "source": []
  },
  {
   "cell_type": "code",
   "execution_count": 4,
   "id": "5dbb78ad",
   "metadata": {},
   "outputs": [],
   "source": [
    "audio_files = [os.path.join(audio_dir, f) for f in os.listdir(audio_dir) if f.endswith('.wav')]\n",
    "audio_data = []\n",
    "for f in audio_files:\n",
    "    audio, sr = librosa.load(f, sr=44100, mono=True)\n",
    "    audio_data.append(audio)\n",
    "\n",
    "max_length = 44100\n",
    "padded_audio_data = []\n",
    "for audio in audio_data:\n",
    "    if len(audio) >= max_length:\n",
    "        padded_audio_data.append(audio[:max_length])\n",
    "    else:\n",
    "        padded_audio_data.append(np.pad(audio, (0, max_length - len(audio)), mode='constant'))\n",
    "\n",
    "padded_audio_data = np.array(padded_audio_data)\n",
    "csv_data = df[['x', 'z', 'theta']].values\n",
    "pos_data = df[['x', 'z']].values\n",
    "theta_data = df['theta'].values\n"
   ]
  },
  {
   "cell_type": "code",
   "execution_count": 5,
   "id": "58a463e2",
   "metadata": {},
   "outputs": [],
   "source": [
    "input_audio = tf.keras.layers.Input(shape=(max_length, 1))\n",
    "lstm1 = tf.keras.layers.LSTM(128)(input_audio)\n",
    "dense1 = tf.keras.layers.Dense(64, activation='softmax')(lstm1)\n",
    "input_csv = tf.keras.layers.Input(shape=(3,))\n",
    "concat = tf.keras.layers.Concatenate()([dense1, input_csv])\n",
    "dense2 = tf.keras.layers.Dense(32, activation='softmax')(concat)\n",
    "output_pos = tf.keras.layers.Dense(2, activation='linear')(dense2)\n",
    "output_theta = tf.keras.layers.Dense(1, activation='linear')(dense2)\n",
    "\n"
   ]
  },
  {
   "cell_type": "code",
   "execution_count": 6,
   "id": "602e85b8",
   "metadata": {},
   "outputs": [],
   "source": [
    "model = tf.keras.models.Model(inputs=[input_audio, input_csv], outputs=[output_pos, output_theta])\n",
    "model.compile(loss='categorical_crossentropy', optimizer='adam', metrics=['accuracy'])\n"
   ]
  },
  {
   "cell_type": "code",
   "execution_count": null,
   "id": "947fbca7",
   "metadata": {},
   "outputs": [],
   "source": []
  },
  {
   "cell_type": "code",
   "execution_count": 7,
   "id": "325c45e8",
   "metadata": {},
   "outputs": [
    {
     "name": "stdout",
     "output_type": "stream",
     "text": [
      "Epoch 1/35\n",
      "3/3 [==============================] - 148s 52s/step - loss: 430.1891 - dense_2_loss: 430.1891 - dense_3_loss: 6.4938e-06 - dense_2_accuracy: 0.3158 - dense_3_accuracy: 0.0526 - val_loss: -248.2779 - val_dense_2_loss: -248.2779 - val_dense_3_loss: 1.9073e-05 - val_dense_2_accuracy: 0.0000e+00 - val_dense_3_accuracy: 0.0000e+00\n",
      "Epoch 2/35\n",
      "3/3 [==============================] - 172s 61s/step - loss: 392.1061 - dense_2_loss: 392.1061 - dense_3_loss: 6.4938e-06 - dense_2_accuracy: 0.6316 - dense_3_accuracy: 0.0526 - val_loss: -257.8406 - val_dense_2_loss: -257.8407 - val_dense_3_loss: 1.9073e-05 - val_dense_2_accuracy: 0.0000e+00 - val_dense_3_accuracy: 0.0000e+00\n",
      "Epoch 3/35\n",
      "3/3 [==============================] - 123s 35s/step - loss: 372.8672 - dense_2_loss: 372.8672 - dense_3_loss: 6.4938e-06 - dense_2_accuracy: 0.6842 - dense_3_accuracy: 0.0526 - val_loss: -267.4777 - val_dense_2_loss: -267.4778 - val_dense_3_loss: 1.9073e-05 - val_dense_2_accuracy: 0.0000e+00 - val_dense_3_accuracy: 0.0000e+00\n",
      "Epoch 4/35\n",
      "3/3 [==============================] - 112s 37s/step - loss: 360.5876 - dense_2_loss: 360.5876 - dense_3_loss: 6.4938e-06 - dense_2_accuracy: 0.6316 - dense_3_accuracy: 0.0526 - val_loss: -278.7979 - val_dense_2_loss: -278.7979 - val_dense_3_loss: 1.9073e-05 - val_dense_2_accuracy: 0.0000e+00 - val_dense_3_accuracy: 0.0000e+00\n",
      "Epoch 5/35\n",
      "3/3 [==============================] - 130s 43s/step - loss: 350.5881 - dense_2_loss: 350.5881 - dense_3_loss: 6.4938e-06 - dense_2_accuracy: 0.6316 - dense_3_accuracy: 0.0526 - val_loss: -305.4197 - val_dense_2_loss: -305.4198 - val_dense_3_loss: 1.9073e-05 - val_dense_2_accuracy: 0.0000e+00 - val_dense_3_accuracy: 0.0000e+00\n",
      "Epoch 6/35\n",
      "3/3 [==============================] - 145s 45s/step - loss: 320.0745 - dense_2_loss: 320.0745 - dense_3_loss: 6.4938e-06 - dense_2_accuracy: 0.6316 - dense_3_accuracy: 0.0526 - val_loss: -458.4691 - val_dense_2_loss: -458.4692 - val_dense_3_loss: 1.9073e-05 - val_dense_2_accuracy: 0.0000e+00 - val_dense_3_accuracy: 0.0000e+00\n",
      "Epoch 7/35\n",
      "3/3 [==============================] - 153s 48s/step - loss: 247.3220 - dense_2_loss: 247.3220 - dense_3_loss: 6.4938e-06 - dense_2_accuracy: 0.6842 - dense_3_accuracy: 0.0526 - val_loss: -2866.2358 - val_dense_2_loss: -2866.2358 - val_dense_3_loss: 1.9073e-05 - val_dense_2_accuracy: 0.0000e+00 - val_dense_3_accuracy: 0.0000e+00\n",
      "Epoch 8/35\n",
      "3/3 [==============================] - 162s 52s/step - loss: -163.1216 - dense_2_loss: -163.1216 - dense_3_loss: 6.4938e-06 - dense_2_accuracy: 0.6316 - dense_3_accuracy: 0.0526 - val_loss: -4311.4858 - val_dense_2_loss: -4311.4858 - val_dense_3_loss: 1.9073e-05 - val_dense_2_accuracy: 0.0000e+00 - val_dense_3_accuracy: 0.0000e+00\n",
      "Epoch 9/35\n",
      "3/3 [==============================] - 184s 58s/step - loss: -299.2014 - dense_2_loss: -299.2014 - dense_3_loss: 6.4938e-06 - dense_2_accuracy: 0.6316 - dense_3_accuracy: 0.0526 - val_loss: -4316.4023 - val_dense_2_loss: -4316.4023 - val_dense_3_loss: 1.9073e-05 - val_dense_2_accuracy: 0.0000e+00 - val_dense_3_accuracy: 0.0000e+00\n",
      "Epoch 10/35\n",
      "3/3 [==============================] - 195s 58s/step - loss: -378.4050 - dense_2_loss: -378.4050 - dense_3_loss: 6.4938e-06 - dense_2_accuracy: 0.6842 - dense_3_accuracy: 0.0526 - val_loss: -4336.1172 - val_dense_2_loss: -4336.1172 - val_dense_3_loss: 1.9073e-05 - val_dense_2_accuracy: 0.0000e+00 - val_dense_3_accuracy: 0.0000e+00\n",
      "Epoch 11/35\n",
      "3/3 [==============================] - 193s 59s/step - loss: -379.6270 - dense_2_loss: -379.6270 - dense_3_loss: 6.4938e-06 - dense_2_accuracy: 0.6842 - dense_3_accuracy: 0.0526 - val_loss: -4408.2681 - val_dense_2_loss: -4408.2681 - val_dense_3_loss: 1.9073e-05 - val_dense_2_accuracy: 0.0000e+00 - val_dense_3_accuracy: 0.0000e+00\n",
      "Epoch 12/35\n",
      "3/3 [==============================] - 210s 60s/step - loss: -381.6335 - dense_2_loss: -381.6335 - dense_3_loss: 6.4938e-06 - dense_2_accuracy: 0.6842 - dense_3_accuracy: 0.0526 - val_loss: -5810.5596 - val_dense_2_loss: -5810.5596 - val_dense_3_loss: 1.9073e-05 - val_dense_2_accuracy: 0.0000e+00 - val_dense_3_accuracy: 0.0000e+00\n",
      "Epoch 13/35\n",
      "3/3 [==============================] - 200s 59s/step - loss: -383.6215 - dense_2_loss: -383.6215 - dense_3_loss: 6.4938e-06 - dense_2_accuracy: 0.6842 - dense_3_accuracy: 0.0526 - val_loss: -5805.7246 - val_dense_2_loss: -5805.7246 - val_dense_3_loss: 1.9073e-05 - val_dense_2_accuracy: 0.0000e+00 - val_dense_3_accuracy: 0.0000e+00\n",
      "Epoch 14/35\n",
      "3/3 [==============================] - 187s 58s/step - loss: -386.1200 - dense_2_loss: -386.1200 - dense_3_loss: 6.4938e-06 - dense_2_accuracy: 0.6842 - dense_3_accuracy: 0.0526 - val_loss: -5800.8682 - val_dense_2_loss: -5800.8682 - val_dense_3_loss: 1.9073e-05 - val_dense_2_accuracy: 0.2000 - val_dense_3_accuracy: 0.0000e+00\n",
      "Epoch 15/35\n",
      "3/3 [==============================] - 192s 58s/step - loss: -389.5269 - dense_2_loss: -389.5269 - dense_3_loss: 6.4938e-06 - dense_2_accuracy: 0.6316 - dense_3_accuracy: 0.0526 - val_loss: -5796.3701 - val_dense_2_loss: -5796.3701 - val_dense_3_loss: 1.9073e-05 - val_dense_2_accuracy: 0.2000 - val_dense_3_accuracy: 0.0000e+00\n",
      "Epoch 16/35\n",
      "3/3 [==============================] - 201s 62s/step - loss: -393.0647 - dense_2_loss: -393.0647 - dense_3_loss: 6.4938e-06 - dense_2_accuracy: 0.6316 - dense_3_accuracy: 0.0526 - val_loss: -5792.4688 - val_dense_2_loss: -5792.4688 - val_dense_3_loss: 1.9073e-05 - val_dense_2_accuracy: 0.2000 - val_dense_3_accuracy: 0.0000e+00\n",
      "Epoch 17/35\n",
      "3/3 [==============================] - 190s 61s/step - loss: -396.5723 - dense_2_loss: -396.5723 - dense_3_loss: 6.4938e-06 - dense_2_accuracy: 0.6316 - dense_3_accuracy: 0.0526 - val_loss: -5789.1865 - val_dense_2_loss: -5789.1865 - val_dense_3_loss: 1.9073e-05 - val_dense_2_accuracy: 0.2000 - val_dense_3_accuracy: 0.0000e+00\n",
      "Epoch 18/35\n",
      "3/3 [==============================] - 217s 65s/step - loss: -401.8773 - dense_2_loss: -401.8773 - dense_3_loss: 6.4938e-06 - dense_2_accuracy: 0.6316 - dense_3_accuracy: 0.0526 - val_loss: -5786.3374 - val_dense_2_loss: -5786.3374 - val_dense_3_loss: 1.9073e-05 - val_dense_2_accuracy: 0.2000 - val_dense_3_accuracy: 0.0000e+00\n",
      "Epoch 19/35\n",
      "3/3 [==============================] - 216s 61s/step - loss: -407.2888 - dense_2_loss: -407.2888 - dense_3_loss: 6.4938e-06 - dense_2_accuracy: 0.6316 - dense_3_accuracy: 0.0526 - val_loss: -5783.6055 - val_dense_2_loss: -5783.6055 - val_dense_3_loss: 1.9073e-05 - val_dense_2_accuracy: 0.2000 - val_dense_3_accuracy: 0.0000e+00\n",
      "Epoch 20/35\n",
      "3/3 [==============================] - 225s 67s/step - loss: -411.1530 - dense_2_loss: -411.1530 - dense_3_loss: 6.4938e-06 - dense_2_accuracy: 0.6316 - dense_3_accuracy: 0.0526 - val_loss: -5781.5024 - val_dense_2_loss: -5781.5024 - val_dense_3_loss: 1.9073e-05 - val_dense_2_accuracy: 0.2000 - val_dense_3_accuracy: 0.0000e+00\n",
      "Epoch 21/35\n",
      "3/3 [==============================] - 206s 64s/step - loss: -411.7289 - dense_2_loss: -411.7289 - dense_3_loss: 6.4938e-06 - dense_2_accuracy: 0.6316 - dense_3_accuracy: 0.0526 - val_loss: -5779.9624 - val_dense_2_loss: -5779.9624 - val_dense_3_loss: 1.9073e-05 - val_dense_2_accuracy: 0.2000 - val_dense_3_accuracy: 0.0000e+00\n",
      "Epoch 22/35\n",
      "3/3 [==============================] - 208s 62s/step - loss: -412.3925 - dense_2_loss: -412.3925 - dense_3_loss: 6.4938e-06 - dense_2_accuracy: 0.6316 - dense_3_accuracy: 0.0526 - val_loss: -5778.8569 - val_dense_2_loss: -5778.8569 - val_dense_3_loss: 1.9073e-05 - val_dense_2_accuracy: 0.2000 - val_dense_3_accuracy: 0.0000e+00\n",
      "Epoch 23/35\n",
      "3/3 [==============================] - 205s 61s/step - loss: -412.9378 - dense_2_loss: -412.9378 - dense_3_loss: 6.4938e-06 - dense_2_accuracy: 0.6842 - dense_3_accuracy: 0.0526 - val_loss: -5778.0986 - val_dense_2_loss: -5778.0986 - val_dense_3_loss: 1.9073e-05 - val_dense_2_accuracy: 0.2000 - val_dense_3_accuracy: 0.0000e+00\n",
      "Epoch 24/35\n",
      "3/3 [==============================] - 211s 59s/step - loss: -413.4180 - dense_2_loss: -413.4180 - dense_3_loss: 6.4938e-06 - dense_2_accuracy: 0.6842 - dense_3_accuracy: 0.0526 - val_loss: -5777.6064 - val_dense_2_loss: -5777.6064 - val_dense_3_loss: 1.9073e-05 - val_dense_2_accuracy: 0.2000 - val_dense_3_accuracy: 0.0000e+00\n"
     ]
    },
    {
     "name": "stdout",
     "output_type": "stream",
     "text": [
      "Epoch 25/35\n",
      "3/3 [==============================] - 194s 59s/step - loss: -413.8620 - dense_2_loss: -413.8620 - dense_3_loss: 6.4938e-06 - dense_2_accuracy: 0.5263 - dense_3_accuracy: 0.0526 - val_loss: -5777.3364 - val_dense_2_loss: -5777.3364 - val_dense_3_loss: 1.9073e-05 - val_dense_2_accuracy: 0.2000 - val_dense_3_accuracy: 0.0000e+00\n",
      "Epoch 26/35\n",
      "3/3 [==============================] - 199s 60s/step - loss: -414.2225 - dense_2_loss: -414.2225 - dense_3_loss: 6.4938e-06 - dense_2_accuracy: 0.5263 - dense_3_accuracy: 0.0526 - val_loss: -5777.1758 - val_dense_2_loss: -5777.1758 - val_dense_3_loss: 1.9073e-05 - val_dense_2_accuracy: 0.2000 - val_dense_3_accuracy: 0.0000e+00\n",
      "Epoch 27/35\n",
      "3/3 [==============================] - 201s 61s/step - loss: -414.6464 - dense_2_loss: -414.6464 - dense_3_loss: 6.4938e-06 - dense_2_accuracy: 0.5263 - dense_3_accuracy: 0.0526 - val_loss: -5777.0845 - val_dense_2_loss: -5777.0845 - val_dense_3_loss: 1.9073e-05 - val_dense_2_accuracy: 0.2000 - val_dense_3_accuracy: 0.0000e+00\n",
      "Epoch 28/35\n",
      "3/3 [==============================] - 212s 65s/step - loss: -415.0345 - dense_2_loss: -415.0345 - dense_3_loss: 6.4938e-06 - dense_2_accuracy: 0.5263 - dense_3_accuracy: 0.0526 - val_loss: -5777.0654 - val_dense_2_loss: -5777.0654 - val_dense_3_loss: 1.9073e-05 - val_dense_2_accuracy: 0.2000 - val_dense_3_accuracy: 0.0000e+00\n",
      "Epoch 29/35\n",
      "3/3 [==============================] - 213s 63s/step - loss: -415.3073 - dense_2_loss: -415.3073 - dense_3_loss: 6.4938e-06 - dense_2_accuracy: 0.5263 - dense_3_accuracy: 0.0526 - val_loss: -5777.1245 - val_dense_2_loss: -5777.1245 - val_dense_3_loss: 1.9073e-05 - val_dense_2_accuracy: 0.2000 - val_dense_3_accuracy: 0.0000e+00\n",
      "Epoch 30/35\n",
      "3/3 [==============================] - 195s 57s/step - loss: -415.6592 - dense_2_loss: -415.6592 - dense_3_loss: 6.4938e-06 - dense_2_accuracy: 0.5263 - dense_3_accuracy: 0.0526 - val_loss: -5777.1973 - val_dense_2_loss: -5777.1973 - val_dense_3_loss: 1.9073e-05 - val_dense_2_accuracy: 0.2000 - val_dense_3_accuracy: 0.0000e+00\n",
      "Epoch 31/35\n",
      "3/3 [==============================] - 206s 64s/step - loss: -415.8911 - dense_2_loss: -415.8911 - dense_3_loss: 6.4938e-06 - dense_2_accuracy: 0.5263 - dense_3_accuracy: 0.0526 - val_loss: -5777.3428 - val_dense_2_loss: -5777.3428 - val_dense_3_loss: 1.9073e-05 - val_dense_2_accuracy: 0.2000 - val_dense_3_accuracy: 0.0000e+00\n",
      "Epoch 32/35\n",
      "3/3 [==============================] - 241s 78s/step - loss: -416.1741 - dense_2_loss: -416.1741 - dense_3_loss: 6.4938e-06 - dense_2_accuracy: 0.5263 - dense_3_accuracy: 0.0526 - val_loss: -5777.5029 - val_dense_2_loss: -5777.5029 - val_dense_3_loss: 1.9073e-05 - val_dense_2_accuracy: 0.2000 - val_dense_3_accuracy: 0.0000e+00\n",
      "Epoch 33/35\n",
      "3/3 [==============================] - 260s 72s/step - loss: -416.4356 - dense_2_loss: -416.4356 - dense_3_loss: 6.4938e-06 - dense_2_accuracy: 0.5263 - dense_3_accuracy: 0.0526 - val_loss: -5777.6787 - val_dense_2_loss: -5777.6787 - val_dense_3_loss: 1.9073e-05 - val_dense_2_accuracy: 0.2000 - val_dense_3_accuracy: 0.0000e+00\n",
      "Epoch 34/35\n",
      "3/3 [==============================] - 212s 67s/step - loss: -416.6418 - dense_2_loss: -416.6418 - dense_3_loss: 6.4938e-06 - dense_2_accuracy: 0.5263 - dense_3_accuracy: 0.0526 - val_loss: -5777.8330 - val_dense_2_loss: -5777.8330 - val_dense_3_loss: 1.9073e-05 - val_dense_2_accuracy: 0.2000 - val_dense_3_accuracy: 0.0000e+00\n",
      "Epoch 35/35\n",
      "3/3 [==============================] - 248s 78s/step - loss: -416.8787 - dense_2_loss: -416.8787 - dense_3_loss: 6.4938e-06 - dense_2_accuracy: 0.5263 - dense_3_accuracy: 0.0526 - val_loss: -5777.9399 - val_dense_2_loss: -5777.9399 - val_dense_3_loss: 1.9073e-05 - val_dense_2_accuracy: 0.2000 - val_dense_3_accuracy: 0.0000e+00\n"
     ]
    },
    {
     "data": {
      "text/plain": [
       "<keras.callbacks.History at 0x24d3cfec7c0>"
      ]
     },
     "execution_count": 7,
     "metadata": {},
     "output_type": "execute_result"
    }
   ],
   "source": [
    "model.fit(x=[padded_audio_data.reshape(-1, max_length, 1), csv_data],\n",
    "          y=[pos_data, theta_data],\n",
    "          epochs=35,\n",
    "          batch_size=8,\n",
    "          steps_per_epoch=len(audio_files)//8,\n",
    "          validation_split=0.2)"
   ]
  },
  {
   "cell_type": "code",
   "execution_count": 8,
   "id": "ae14e5dd",
   "metadata": {},
   "outputs": [
    {
     "name": "stdout",
     "output_type": "stream",
     "text": [
      "1/1 [==============================] - 2s 2s/step\n",
      "Predicted position: [[0.46735442 0.14807877]]\n",
      "Predicted theta: [[-0.1696058]]\n"
     ]
    }
   ],
   "source": [
    "test_input_audio = np.random.rand(1, 44100, 1)\n",
    "test_input_csv = np.array([[500, 0, 0]])\n",
    "test_output_pos, test_output_theta = model.predict([test_input_audio, test_input_csv])\n",
    "print('Predicted position:', test_output_pos)\n",
    "print('Predicted theta:', test_output_theta)\n"
   ]
  },
  {
   "cell_type": "code",
   "execution_count": null,
   "id": "1bfafe33",
   "metadata": {},
   "outputs": [],
   "source": []
  },
  {
   "cell_type": "code",
   "execution_count": null,
   "id": "815e0569",
   "metadata": {},
   "outputs": [],
   "source": []
  }
 ],
 "metadata": {
  "kernelspec": {
   "display_name": "Python 3 (ipykernel)",
   "language": "python",
   "name": "python3"
  },
  "language_info": {
   "codemirror_mode": {
    "name": "ipython",
    "version": 3
   },
   "file_extension": ".py",
   "mimetype": "text/x-python",
   "name": "python",
   "nbconvert_exporter": "python",
   "pygments_lexer": "ipython3",
   "version": "3.9.13"
  }
 },
 "nbformat": 4,
 "nbformat_minor": 5
}
